{
 "cells": [
  {
   "cell_type": "markdown",
   "metadata": {},
   "source": [
    "# 4.2"
   ]
  },
  {
   "cell_type": "markdown",
   "metadata": {},
   "source": [
    "4.2.1"
   ]
  },
  {
   "cell_type": "code",
   "execution_count": 1,
   "metadata": {},
   "outputs": [],
   "source": [
    "import pandas as pd\n",
    "col_Names=[\"sepal length (cm)\", \"sepal width (cm)\", \"petal length (cm)\", \"petal width (cm)\",'type']\n",
    "iris_data=pd.read_csv('data/iris.data.csv',names=col_Names)"
   ]
  },
  {
   "cell_type": "code",
   "execution_count": 2,
   "metadata": {},
   "outputs": [],
   "source": [
    "df_iris=pd.DataFrame(iris_data)"
   ]
  },
  {
   "cell_type": "code",
   "execution_count": 3,
   "metadata": {},
   "outputs": [],
   "source": [
    "type=list(set(df_iris.type))"
   ]
  },
  {
   "cell_type": "code",
   "execution_count": 4,
   "metadata": {},
   "outputs": [
    {
     "data": {
      "text/plain": [
       "['Iris-setosa', 'Iris-virginica', 'Iris-versicolor']"
      ]
     },
     "execution_count": 4,
     "metadata": {},
     "output_type": "execute_result"
    }
   ],
   "source": [
    "type"
   ]
  },
  {
   "cell_type": "code",
   "execution_count": 5,
   "metadata": {},
   "outputs": [],
   "source": [
    "import numpy as np\n",
    "iris_data=np.asarray(iris_data)"
   ]
  },
  {
   "cell_type": "code",
   "execution_count": 6,
   "metadata": {},
   "outputs": [],
   "source": [
    "set_data=[a for a in iris_data if a[4]=='Iris-setosa']\n",
    "ver_data=[a for a in iris_data if a[4]=='Iris-versicolor']\n",
    "cir_data=[a for a in iris_data if a[4]=='Iris-virginica']"
   ]
  },
  {
   "cell_type": "code",
   "execution_count": 7,
   "metadata": {},
   "outputs": [],
   "source": [
    "set_data=np.asarray(set_data)\n",
    "ver_data=np.asarray(ver_data)\n",
    "cir_data=np.asarray(cir_data)"
   ]
  },
  {
   "cell_type": "code",
   "execution_count": 8,
   "metadata": {},
   "outputs": [
    {
     "data": {
      "text/plain": [
       "(50, 5)"
      ]
     },
     "execution_count": 8,
     "metadata": {},
     "output_type": "execute_result"
    }
   ],
   "source": [
    "set_data.shape"
   ]
  },
  {
   "cell_type": "code",
   "execution_count": 9,
   "metadata": {},
   "outputs": [],
   "source": [
    "setosa=set_data[:,:4]\n",
    "versicolor=ver_data[:,:4]\n",
    "virginica=cir_data[:,:4]"
   ]
  },
  {
   "cell_type": "code",
   "execution_count": 10,
   "metadata": {},
   "outputs": [],
   "source": [
    "se_mean1=np.mean(setosa.T[0])\n",
    "se_mean2=np.mean(setosa.T[1])\n",
    "se_mean3=np.mean(setosa.T[2])\n",
    "se_mean4=np.mean(setosa.T[3])\n",
    "\n",
    "ve_mean1=np.mean(versicolor.T[0])\n",
    "ve_mean2=np.mean(versicolor.T[1])\n",
    "ve_mean3=np.mean(versicolor.T[2])\n",
    "ve_mean4=np.mean(versicolor.T[3])\n",
    "\n",
    "vi_mean1=np.mean(virginica.T[0])\n",
    "vi_mean2=np.mean(virginica.T[1])\n",
    "vi_mean3=np.mean(virginica.T[2])\n",
    "vi_mean4=np.mean(virginica.T[3])"
   ]
  },
  {
   "cell_type": "code",
   "execution_count": 11,
   "metadata": {},
   "outputs": [
    {
     "data": {
      "text/plain": [
       "5.005999999999999"
      ]
     },
     "execution_count": 11,
     "metadata": {},
     "output_type": "execute_result"
    }
   ],
   "source": [
    "se_mean1\n",
    "# se_mean2"
   ]
  },
  {
   "cell_type": "code",
   "execution_count": 12,
   "metadata": {},
   "outputs": [],
   "source": [
    "se_mean_vector=[se_mean1,se_mean2,se_mean3,se_mean4]\n",
    "ve_mean_vector=[ve_mean1,ve_mean2,ve_mean3,ve_mean4]\n",
    "vi_mean_vector=[vi_mean1,vi_mean2,vi_mean3,vi_mean4]"
   ]
  },
  {
   "cell_type": "code",
   "execution_count": 13,
   "metadata": {},
   "outputs": [],
   "source": [
    "se_mean_vector=np.asarray(se_mean_vector)\n",
    "ve_mean_vector=np.asarray(ve_mean_vector)\n",
    "vi_mean_vector=np.asarray(vi_mean_vector)"
   ]
  },
  {
   "cell_type": "code",
   "execution_count": 14,
   "metadata": {},
   "outputs": [
    {
     "data": {
      "text/plain": [
       "(4,)"
      ]
     },
     "execution_count": 14,
     "metadata": {},
     "output_type": "execute_result"
    }
   ],
   "source": [
    "se_mean_vector.shape"
   ]
  },
  {
   "cell_type": "code",
   "execution_count": 15,
   "metadata": {},
   "outputs": [],
   "source": [
    "se_dev=[]\n",
    "ve_dev=[]\n",
    "vi_dev=[]\n",
    "for i in range(len(setosa)):\n",
    "    dev1=setosa[i]-se_mean_vector\n",
    "    dev2=versicolor[i]-ve_mean_vector\n",
    "    dev3=virginica[i]-vi_mean_vector\n",
    "    se_dev.append(dev1)\n",
    "    ve_dev.append(dev2)\n",
    "    vi_dev.append(dev3)\n",
    "se_dev=np.asarray(se_dev)\n",
    "ve_dev=np.asarray(ve_dev)\n",
    "vi_dev=np.asarray(vi_dev)"
   ]
  },
  {
   "cell_type": "code",
   "execution_count": 16,
   "metadata": {},
   "outputs": [],
   "source": [
    "S_se=np.dot(se_dev.T,se_dev)\n",
    "S_ve=np.dot(ve_dev.T,ve_dev)\n",
    "S_vi=np.dot(vi_dev.T,vi_dev)"
   ]
  },
  {
   "cell_type": "code",
   "execution_count": 17,
   "metadata": {},
   "outputs": [],
   "source": [
    "S_w=S_se+S_ve+S_vi"
   ]
  },
  {
   "cell_type": "code",
   "execution_count": 18,
   "metadata": {},
   "outputs": [
    {
     "data": {
      "text/plain": [
       "(4, 4)"
      ]
     },
     "execution_count": 18,
     "metadata": {},
     "output_type": "execute_result"
    }
   ],
   "source": [
    "S_w.shape"
   ]
  },
  {
   "cell_type": "code",
   "execution_count": 19,
   "metadata": {},
   "outputs": [],
   "source": [
    "m1=[se_mean1,ve_mean1,vi_mean1]\n",
    "m2=[se_mean2,ve_mean2,vi_mean2]\n",
    "m3=[se_mean3,ve_mean3,vi_mean3]\n",
    "m4=[se_mean4,ve_mean4,vi_mean4]\n",
    "mean_vec=[np.mean(m1),np.mean(m2),np.mean(m3),np.mean(m4)]"
   ]
  },
  {
   "cell_type": "code",
   "execution_count": 20,
   "metadata": {},
   "outputs": [],
   "source": [
    "mean_vec=np.asarray(mean_vec)"
   ]
  },
  {
   "cell_type": "code",
   "execution_count": 21,
   "metadata": {},
   "outputs": [
    {
     "data": {
      "text/plain": [
       "array([5.84333333, 3.054     , 3.75866667, 1.19866667])"
      ]
     },
     "execution_count": 21,
     "metadata": {},
     "output_type": "execute_result"
    }
   ],
   "source": [
    "mean_vec"
   ]
  },
  {
   "cell_type": "code",
   "execution_count": 22,
   "metadata": {},
   "outputs": [],
   "source": [
    "d1=se_mean_vector-mean_vec\n",
    "d2=ve_mean_vector-mean_vec\n",
    "d3=vi_mean_vector-mean_vec\n",
    "d1=np.asarray(d1).reshape(4,1)\n",
    "d2=np.asarray(d2).reshape(4,1)\n",
    "d3=np.asarray(d3).reshape(4,1)\n",
    "S_B1=len(setosa)*np.dot(d1,d1.T)\n",
    "S_B2=len(versicolor)*np.dot(d2,d2.T)\n",
    "S_B3=len(virginica)*np.dot(d3,d3.T)\n",
    "S_B=(1/3)*S_B1+(1/3)*S_B2+(1/3)*S_B3"
   ]
  },
  {
   "cell_type": "code",
   "execution_count": 23,
   "metadata": {},
   "outputs": [],
   "source": [
    "import matplotlib.pyplot as plt\n",
    "\n"
   ]
  },
  {
   "cell_type": "code",
   "execution_count": 24,
   "metadata": {},
   "outputs": [],
   "source": [
    "SW_matrix=np.asmatrix(S_w,dtype='float')\n",
    "SW_inverse=(SW_matrix).I\n",
    "SB_matrix=np.matrix(S_B)\n",
    "A=SW_inverse@SB_matrix\n",
    "M=np.array(A)"
   ]
  },
  {
   "cell_type": "code",
   "execution_count": 25,
   "metadata": {},
   "outputs": [
    {
     "data": {
      "text/plain": [
       "matrix([[ 21.07071111,  -6.51133333,  55.05488889,  23.78768889],\n",
       "        [ -6.51133333,   3.6592    , -18.68506667,  -7.49746667],\n",
       "        [ 55.05488889, -18.68506667, 145.54791111,  62.30271111],\n",
       "        [ 23.78768889,  -7.49746667,  62.30271111,  26.86804444]])"
      ]
     },
     "execution_count": 25,
     "metadata": {},
     "output_type": "execute_result"
    }
   ],
   "source": [
    "SB_matrix"
   ]
  },
  {
   "cell_type": "code",
   "execution_count": 26,
   "metadata": {},
   "outputs": [
    {
     "data": {
      "text/plain": [
       "matrix([[38.9562, 13.683 , 24.614 ,  5.6556],\n",
       "        [13.683 , 17.035 ,  8.12  ,  4.9132],\n",
       "        [24.614 ,  8.12  , 27.22  ,  6.2536],\n",
       "        [ 5.6556,  4.9132,  6.2536,  6.1756]])"
      ]
     },
     "execution_count": 26,
     "metadata": {},
     "output_type": "execute_result"
    }
   ],
   "source": [
    "SW_matrix"
   ]
  },
  {
   "cell_type": "code",
   "execution_count": 27,
   "metadata": {},
   "outputs": [
    {
     "data": {
      "text/plain": [
       "matrix([[ 0.07395399, -0.03705648, -0.06129209,  0.02382084],\n",
       "        [-0.03705648,  0.09760271,  0.01881271, -0.0627651 ],\n",
       "        [-0.06129209,  0.01881271,  0.10046531, -0.06057014],\n",
       "        [ 0.02382084, -0.0627651 , -0.06057014,  0.2513825 ]])"
      ]
     },
     "execution_count": 27,
     "metadata": {},
     "output_type": "execute_result"
    }
   ],
   "source": [
    "SW_inverse"
   ]
  },
  {
   "cell_type": "code",
   "execution_count": 28,
   "metadata": {},
   "outputs": [],
   "source": [
    "from numpy import linalg as LA"
   ]
  },
  {
   "cell_type": "code",
   "execution_count": 29,
   "metadata": {},
   "outputs": [
    {
     "name": "stdout",
     "output_type": "stream",
     "text": [
      "the the eigenvalue is \n",
      " [1.07573193e+01 9.25222879e-02 6.37489996e-16 2.29298245e-15]\n",
      "the eighenvector,also the best weight is \n",
      " [[-0.20490976 -0.00898234 -0.65243798  0.06674523]\n",
      " [-0.38714331 -0.58899857 -0.01145214 -0.35848605]\n",
      " [ 0.54648218  0.25428655 -0.0773472  -0.42574773]\n",
      " [ 0.71378517 -0.76703217  0.75379768  0.82811333]]\n"
     ]
    }
   ],
   "source": [
    "w,v=LA.eig(M)\n",
    "print('the the eigenvalue is \\n',w)\n",
    "print('the eighenvector,also the best weight is \\n',v)"
   ]
  },
  {
   "cell_type": "code",
   "execution_count": 30,
   "metadata": {},
   "outputs": [
    {
     "name": "stdout",
     "output_type": "stream",
     "text": [
      "the the eigenvalue 1 is \n",
      " 10.75731926657661\n",
      "the eighenvector is \n",
      " [[-0.20490976]\n",
      " [-0.38714331]\n",
      " [ 0.54648218]\n",
      " [ 0.71378517]]\n",
      "the the eigenvalue 2 is \n",
      " 0.09252228794668244\n",
      "the eighenvector is \n",
      " [[-0.00898234]\n",
      " [-0.58899857]\n",
      " [ 0.25428655]\n",
      " [-0.76703217]]\n",
      "the the eigenvalue 3 is \n",
      " 6.374899957916442e-16\n",
      "the eighenvector is \n",
      " [[-0.65243798]\n",
      " [-0.01145214]\n",
      " [-0.0773472 ]\n",
      " [ 0.75379768]]\n",
      "the the eigenvalue 4 is \n",
      " 2.2929824473573684e-15\n",
      "the eighenvector is \n",
      " [[ 0.06674523]\n",
      " [-0.35848605]\n",
      " [-0.42574773]\n",
      " [ 0.82811333]]\n"
     ]
    }
   ],
   "source": [
    "for i in range(len(w)):\n",
    "    eigvector=v[:,i].reshape(4,1)\n",
    "    print('the the eigenvalue',i+1, 'is \\n',w[i])\n",
    "    print('the eighenvector is \\n',eigvector)"
   ]
  },
  {
   "cell_type": "code",
   "execution_count": 32,
   "metadata": {},
   "outputs": [
    {
     "name": "stdout",
     "output_type": "stream",
     "text": [
      "the the eigenvalue is \n",
      " [1.07573193e+01 9.25222879e-02 6.37489996e-16 2.29298245e-15]\n",
      "the eighenvector,also the weight is \n",
      " [[-0.20490976 -0.00898234 -0.65243798  0.06674523]\n",
      " [-0.38714331 -0.58899857 -0.01145214 -0.35848605]\n",
      " [ 0.54648218  0.25428655 -0.0773472  -0.42574773]\n",
      " [ 0.71378517 -0.76703217  0.75379768  0.82811333]]\n"
     ]
    }
   ],
   "source": [
    "w1,v1=LA.eigh(M)\n",
    "print('the the eigenvalue is \\n',w)\n",
    "print('the eighenvector,also the weight is \\n',v)"
   ]
  },
  {
   "cell_type": "code",
   "execution_count": 54,
   "metadata": {},
   "outputs": [
    {
     "name": "stdout",
     "output_type": "stream",
     "text": [
      "[[-2.84217094e-14]\n",
      " [-2.84217094e-14]\n",
      " [ 1.42108547e-14]\n",
      " [ 1.06581410e-14]]\n",
      "[[ True]\n",
      " [ True]\n",
      " [ True]\n",
      " [ True]]\n",
      "[[-7.99360578e-15]\n",
      " [-9.76996262e-15]\n",
      " [ 1.59872116e-14]\n",
      " [ 6.21724894e-15]]\n",
      "[[ True]\n",
      " [ True]\n",
      " [ True]\n",
      " [ True]]\n",
      "[[ 1.24344979e-14]\n",
      " [-4.44089210e-15]\n",
      " [ 1.42108547e-14]\n",
      " [ 5.32907052e-15]]\n",
      "[[ True]\n",
      " [ True]\n",
      " [ True]\n",
      " [ True]]\n",
      "[[ 1.11022302e-14]\n",
      " [ 1.50990331e-14]\n",
      " [-1.59872116e-14]\n",
      " [-1.77635684e-15]]\n",
      "[[ True]\n",
      " [ True]\n",
      " [ True]\n",
      " [ True]]\n"
     ]
    }
   ],
   "source": [
    "for i in range(len(w)):\n",
    "    test=np.dot(SB_matrix-w[i]*SW_matrix,v[:,i].reshape(4,1))\n",
    "    k=np.isclose(test,np.zeros((4,1)))\n",
    "    print(test)\n",
    "    print(k)\n",
    "    "
   ]
  },
  {
   "cell_type": "code",
   "execution_count": 33,
   "metadata": {},
   "outputs": [
    {
     "name": "stdout",
     "output_type": "stream",
     "text": [
      "(S_B-eig_value*S_W)*eig_vector=0 is true\n"
     ]
    }
   ],
   "source": [
    "print('(S_B-eig_value*S_W)*eig_vector=0 is true')"
   ]
  },
  {
   "cell_type": "code",
   "execution_count": 34,
   "metadata": {},
   "outputs": [],
   "source": [
    "eig_pairs=[(np.abs(w[i]),v[:,i]) for i in range(len(w))]"
   ]
  },
  {
   "cell_type": "code",
   "execution_count": 35,
   "metadata": {},
   "outputs": [
    {
     "data": {
      "text/plain": [
       "[(10.75731926657661,\n",
       "  array([-0.20490976, -0.38714331,  0.54648218,  0.71378517])),\n",
       " (0.09252228794668244,\n",
       "  array([-0.00898234, -0.58899857,  0.25428655, -0.76703217])),\n",
       " (6.374899957916442e-16,\n",
       "  array([-0.65243798, -0.01145214, -0.0773472 ,  0.75379768])),\n",
       " (2.2929824473573684e-15,\n",
       "  array([ 0.06674523, -0.35848605, -0.42574773,  0.82811333]))]"
      ]
     },
     "execution_count": 35,
     "metadata": {},
     "output_type": "execute_result"
    }
   ],
   "source": [
    "eig_pairs"
   ]
  },
  {
   "cell_type": "code",
   "execution_count": 36,
   "metadata": {},
   "outputs": [],
   "source": [
    "eig_pairs=sorted(eig_pairs,reverse=True)"
   ]
  },
  {
   "cell_type": "code",
   "execution_count": 37,
   "metadata": {},
   "outputs": [
    {
     "name": "stdout",
     "output_type": "stream",
     "text": [
      "eigenvalues in decreasing order:\n",
      "10.75731926657661\n",
      "0.09252228794668244\n",
      "2.2929824473573684e-15\n",
      "6.374899957916442e-16\n"
     ]
    }
   ],
   "source": [
    "print('eigenvalues in decreasing order:')\n",
    "for i in eig_pairs:\n",
    "    print(i[0])"
   ]
  },
  {
   "cell_type": "code",
   "execution_count": 38,
   "metadata": {},
   "outputs": [],
   "source": [
    "eig_sum=sum(w)"
   ]
  },
  {
   "cell_type": "code",
   "execution_count": 39,
   "metadata": {},
   "outputs": [
    {
     "name": "stdout",
     "output_type": "stream",
     "text": [
      "eigenvalues explain:\n",
      "99.14724756595075 %\n",
      "0.8527524340492321 %\n",
      "2.1133787399885347e-14 %\n",
      "5.875569634709319e-15 %\n"
     ]
    }
   ],
   "source": [
    "print('eigenvalues explain:')\n",
    "for i in eig_pairs:\n",
    "    explained=100*i[0]/eig_sum\n",
    "    print(explained,'%')"
   ]
  },
  {
   "cell_type": "code",
   "execution_count": 40,
   "metadata": {},
   "outputs": [
    {
     "name": "stdout",
     "output_type": "stream",
     "text": [
      "so the optimal direction w* is  [-0.20490976 -0.38714331  0.54648218  0.71378517]\n"
     ]
    }
   ],
   "source": [
    "print('so the optimal direction w* is ',v[:,0])"
   ]
  },
  {
   "cell_type": "markdown",
   "metadata": {},
   "source": [
    "4.2.2"
   ]
  },
  {
   "cell_type": "code",
   "execution_count": 41,
   "metadata": {},
   "outputs": [],
   "source": [
    "w_optimal=v[:,0]"
   ]
  },
  {
   "cell_type": "code",
   "execution_count": 42,
   "metadata": {},
   "outputs": [
    {
     "data": {
      "text/plain": [
       "(4,)"
      ]
     },
     "execution_count": 42,
     "metadata": {},
     "output_type": "execute_result"
    }
   ],
   "source": [
    "w_optimal.shape"
   ]
  },
  {
   "cell_type": "code",
   "execution_count": 43,
   "metadata": {},
   "outputs": [
    {
     "data": {
      "text/plain": [
       "(50, 4)"
      ]
     },
     "execution_count": 43,
     "metadata": {},
     "output_type": "execute_result"
    }
   ],
   "source": [
    "setosa.shape"
   ]
  },
  {
   "cell_type": "code",
   "execution_count": 44,
   "metadata": {},
   "outputs": [],
   "source": [
    "Y_se=np.dot(setosa,w_optimal)\n",
    "Y_ve=np.dot(versicolor,w_optimal)\n",
    "Y_vi=np.dot(virginica,w_optimal)"
   ]
  },
  {
   "cell_type": "code",
   "execution_count": 45,
   "metadata": {},
   "outputs": [],
   "source": [
    "Y_se=np.asarray(Y_se,dtype='float')\n",
    "Y_ve=np.asarray(Y_ve,dtype='float')\n",
    "Y_vi=np.asarray(Y_vi,dtype='float')"
   ]
  },
  {
   "cell_type": "code",
   "execution_count": 46,
   "metadata": {},
   "outputs": [],
   "source": [
    "import matplotlib.pyplot as plt\n",
    "\n"
   ]
  },
  {
   "cell_type": "code",
   "execution_count": 48,
   "metadata": {},
   "outputs": [
    {
     "data": {
      "text/plain": [
       "(array([ 4.,  6., 10.,  9.,  6., 11.,  1.,  2.,  0.,  1.]),\n",
       " array([1.48280412, 1.61732922, 1.75185433, 1.88637944, 2.02090454,\n",
       "        2.15542965, 2.28995476, 2.42447986, 2.55900497, 2.69353007,\n",
       "        2.82805518]),\n",
       " <a list of 10 Patch objects>)"
      ]
     },
     "execution_count": 48,
     "metadata": {},
     "output_type": "execute_result"
    },
    {
     "data": {
      "image/png": "[encoded data removed]",
      "text/plain": [
       "<Figure size 360x216 with 1 Axes>"
      ]
     },
     "metadata": {
      "needs_background": "light"
     },
     "output_type": "display_data"
    }
   ],
   "source": [
    "fig,ax=plt.subplots(figsize=(5,3))\n",
    "ax.hist(Y_se,bins=10,color='grey',alpha=0.3)\n",
    "ax.hist(Y_ve,bins=10,color='r',alpha=0.3)\n",
    "ax.hist(Y_vi,bins=10,color='orange',alpha=0.3)\n",
    "\n",
    "\n",
    "\n"
   ]
  },
  {
   "cell_type": "markdown",
   "metadata": {},
   "source": [
    "4.2.3"
   ]
  },
  {
   "cell_type": "code",
   "execution_count": 55,
   "metadata": {},
   "outputs": [],
   "source": [
    "Y_se1=np.dot(setosa,v[:,2])\n",
    "Y_ve1=np.dot(versicolor,v[:,2])\n",
    "Y_vi1=np.dot(virginica,v[:,2])"
   ]
  },
  {
   "cell_type": "code",
   "execution_count": 56,
   "metadata": {},
   "outputs": [],
   "source": [
    "Y_se1=np.asarray(Y_se1,dtype='float')\n",
    "Y_ve1=np.asarray(Y_ve1,dtype='float')\n",
    "Y_vi1=np.asarray(Y_vi1,dtype='float')"
   ]
  },
  {
   "cell_type": "code",
   "execution_count": 58,
   "metadata": {},
   "outputs": [
    {
     "data": {
      "text/plain": [
       "(array([ 2.,  7.,  1.,  2.,  9., 13.,  7.,  5.,  2.,  2.]),\n",
       " array([-4.18520487, -3.99590266, -3.80660045, -3.61729824, -3.42799603,\n",
       "        -3.23869382, -3.04939162, -2.86008941, -2.6707872 , -2.48148499,\n",
       "        -2.29218278]),\n",
       " <a list of 10 Patch objects>)"
      ]
     },
     "execution_count": 58,
     "metadata": {},
     "output_type": "execute_result"
    },
    {
     "data": {
      "image/png": "[encoded data removed]",
      "text/plain": [
       "<Figure size 360x216 with 1 Axes>"
      ]
     },
     "metadata": {
      "needs_background": "light"
     },
     "output_type": "display_data"
    }
   ],
   "source": [
    "fig,ax=plt.subplots(figsize=(5,3))\n",
    "ax.hist(Y_se1,bins=10,color='grey',alpha=0.3)\n",
    "ax.hist(Y_ve1,bins=10,color='r',alpha=0.3)\n",
    "ax.hist(Y_vi1,bins=10,color='orange',alpha=0.3)"
   ]
  },
  {
   "cell_type": "code",
   "execution_count": 49,
   "metadata": {},
   "outputs": [
    {
     "name": "stdout",
     "output_type": "stream",
     "text": [
      "if a is random,assuming a is \n",
      "[1,2,3,4]\n",
      "[10,12,5,3] \n",
      "then new vector is\n",
      "[0.79509024 1.61285669 3.54648218 4.71378517] \n",
      " [ 9.79509024 11.61285669  5.54648218  3.71378517]\n"
     ]
    }
   ],
   "source": [
    "print('if a is random,assuming a is \\n[1,2,3,4]\\n[10,12,5,3] \\nthen new vector is')\n",
    "a=np.array([1,2,3,4])\n",
    "b=np.array([10,12,5,3])\n",
    "w_new=w_optimal+a\n",
    "w_new1=w_optimal+b\n",
    "print(w_new,'\\n',w_new1)"
   ]
  },
  {
   "cell_type": "code",
   "execution_count": 53,
   "metadata": {},
   "outputs": [
    {
     "data": {
      "text/plain": [
       "(array([ 1.,  1.,  4., 10.,  8.,  9., 10.,  3.,  2.,  2.]),\n",
       " array([108.3006885 , 113.95890048, 119.61711245, 125.27532443,\n",
       "        130.9335364 , 136.59174838, 142.24996035, 147.90817233,\n",
       "        153.5663843 , 159.22459628, 164.88280825]),\n",
       " <a list of 10 Patch objects>)"
      ]
     },
     "execution_count": 53,
     "metadata": {},
     "output_type": "execute_result"
    },
    {
     "data": {
      "image/png": "[encoded data removed]",
      "text/plain": [
       "<Figure size 864x216 with 2 Axes>"
      ]
     },
     "metadata": {
      "needs_background": "light"
     },
     "output_type": "display_data"
    }
   ],
   "source": [
    "Y_se2=np.dot(setosa,w_new)\n",
    "Y_ve2=np.dot(versicolor,w_new)\n",
    "Y_vi2=np.dot(virginica,w_new)\n",
    "Y_se2=np.asarray(Y_se2,dtype='float')\n",
    "Y_ve2=np.asarray(Y_ve2,dtype='float')\n",
    "Y_vi2=np.asarray(Y_vi2,dtype='float')\n",
    "\n",
    "Y_se3=np.dot(setosa,w_new1)\n",
    "Y_ve3=np.dot(versicolor,w_new1)\n",
    "Y_vi3=np.dot(virginica,w_new1)\n",
    "Y_se3=np.asarray(Y_se3,dtype='float')\n",
    "Y_ve3=np.asarray(Y_ve3,dtype='float')\n",
    "Y_vi3=np.asarray(Y_vi3,dtype='float')\n",
    "fig,ax=plt.subplots(figsize=(12,3),nrows=1,ncols=2)\n",
    "ax[0].hist(Y_se2,bins=10,color='grey',alpha=0.3)\n",
    "ax[0].hist(Y_ve2,bins=10,color='r',alpha=0.3)\n",
    "ax[0].hist(Y_vi2,bins=10,color='orange',alpha=0.3)\n",
    "ax[1].hist(Y_se3,bins=10,color='grey',alpha=0.3)\n",
    "ax[1].hist(Y_ve3,bins=10,color='r',alpha=0.3)\n",
    "ax[1].hist(Y_vi3,bins=10,color='orange',alpha=0.3)"
   ]
  },
  {
   "cell_type": "code",
   "execution_count": 59,
   "metadata": {},
   "outputs": [
    {
     "name": "stdout",
     "output_type": "stream",
     "text": [
      "but if a is constructed out of other generalised eigenvectors,assuming a is the second vector \n",
      "or the sum of the second and third vector,then\n",
      "[-0.2138921  -0.97614188  0.80076872 -0.053247  ] \n",
      " [-0.86633008 -0.98759403  0.72342153  0.70055068]\n"
     ]
    }
   ],
   "source": [
    "print('but if a is constructed out of other generalised eigenvectors,assuming a is the second vector \\nor the sum of the second and third vector,then')\n",
    "w2=v[:,1]\n",
    "w3=v[:,1]+v[:,2]\n",
    "w_prim=w_optimal+w2\n",
    "w_prim1=w_optimal+w3\n",
    "print(w_prim,'\\n',w_prim1)"
   ]
  },
  {
   "cell_type": "code",
   "execution_count": 60,
   "metadata": {},
   "outputs": [
    {
     "data": {
      "text/plain": [
       "Text(0.5,0,'w1 projection')"
      ]
     },
     "execution_count": 60,
     "metadata": {},
     "output_type": "execute_result"
    },
    {
     "data": {
      "image/png": "[encoded data removed]",
      "text/plain": [
       "<Figure size 1800x360 with 3 Axes>"
      ]
     },
     "metadata": {
      "needs_background": "light"
     },
     "output_type": "display_data"
    }
   ],
   "source": [
    "Y_se4=np.dot(setosa,w_prim)\n",
    "Y_ve4=np.dot(versicolor,w_prim)\n",
    "Y_vi4=np.dot(virginica,w_prim)\n",
    "Y_se4=np.asarray(Y_se4,dtype='float')\n",
    "Y_ve4=np.asarray(Y_ve4,dtype='float')\n",
    "Y_vi4=np.asarray(Y_vi4,dtype='float')\n",
    "\n",
    "Y_se5=np.dot(setosa,w_prim1)\n",
    "Y_ve5=np.dot(versicolor,w_prim1)\n",
    "Y_vi5=np.dot(virginica,w_prim1)\n",
    "Y_se5=np.asarray(Y_se5,dtype='float')\n",
    "Y_ve5=np.asarray(Y_ve5,dtype='float')\n",
    "Y_vi5=np.asarray(Y_vi5,dtype='float')\n",
    "fig,ax=plt.subplots(figsize=(25,5),nrows=1,ncols=3)\n",
    "ax[0].hist(Y_se4,bins=10,color='grey',alpha=0.3)\n",
    "ax[0].hist(Y_ve4,bins=10,color='r',alpha=0.3)\n",
    "ax[0].hist(Y_vi4,bins=10,color='orange',alpha=0.3)\n",
    "ax[0].set_xlabel('w1+w2 projection',fontsize=10)\n",
    "ax[2].hist(Y_se5,bins=10,color='grey',alpha=0.3)\n",
    "ax[2].hist(Y_ve5,bins=10,color='r',alpha=0.3)\n",
    "ax[2].hist(Y_vi5,bins=10,color='orange',alpha=0.3)\n",
    "ax[2].set_xlabel('w1+w2+w3 projection',fontsize=10)\n",
    "\n",
    "\n",
    "ax[1].hist(Y_se,bins=10,color='grey',alpha=0.3)\n",
    "ax[1].hist(Y_ve,bins=10,color='r',alpha=0.3)\n",
    "ax[1].hist(Y_vi,bins=10,color='orange',alpha=0.3)\n",
    "ax[1].set_xlabel('w1 projection',fontsize=10)\n",
    "\n"
   ]
  },
  {
   "cell_type": "code",
   "execution_count": 63,
   "metadata": {},
   "outputs": [
    {
     "data": {
      "text/plain": [
       "2"
      ]
     },
     "execution_count": 63,
     "metadata": {},
     "output_type": "execute_result"
    }
   ],
   "source": [
    "from numpy.linalg import matrix_rank\n",
    "matrix_rank(M)"
   ]
  },
  {
   "cell_type": "code",
   "execution_count": null,
   "metadata": {},
   "outputs": [],
   "source": []
  }
 ],
 "metadata": {
  "kernelspec": {
   "display_name": "Python 3",
   "language": "python",
   "name": "python3"
  },
  "language_info": {
   "codemirror_mode": {
    "name": "ipython",
    "version": 3
   },
   "file_extension": ".py",
   "mimetype": "text/x-python",
   "name": "python",
   "nbconvert_exporter": "python",
   "pygments_lexer": "ipython3",
   "version": "3.7.0"
  }
 },
 "nbformat": 4,
 "nbformat_minor": 2
}
