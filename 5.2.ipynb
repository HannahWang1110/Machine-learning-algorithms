{
 "cells": [
  {
   "cell_type": "markdown",
   "metadata": {},
   "source": [
    "# 5.2"
   ]
  },
  {
   "cell_type": "code",
   "execution_count": 256,
   "metadata": {},
   "outputs": [],
   "source": [
    "import math\n",
    "import matplotlib.pyplot as plt"
   ]
  },
  {
   "cell_type": "code",
   "execution_count": 257,
   "metadata": {},
   "outputs": [
    {
     "data": {
      "text/plain": [
       "<matplotlib.collections.PathCollection at 0x1a1b300320>"
      ]
     },
     "execution_count": 257,
     "metadata": {},
     "output_type": "execute_result"
    },
    {
     "data": {
      "image/png": "[encoded data removed]",
      "text/plain": [
       "<Figure size 432x288 with 1 Axes>"
      ]
     },
     "metadata": {
      "needs_background": "light"
     },
     "output_type": "display_data"
    }
   ],
   "source": [
    "def f(x):\n",
    "    return np.sin(x)\n",
    "pi=math.pi\n",
    "xmin,xmax,npts=[0,2*pi,5000]\n",
    "X=np.linspace(xmin,xmax,npts)\n",
    "Y=f(X)+np.random.normal(0,scale=0.1,size=np.shape(X))\n",
    "plt.scatter(X,Y,marker='o')"
   ]
  },
  {
   "cell_type": "code",
   "execution_count": 258,
   "metadata": {},
   "outputs": [],
   "source": [
    "X_fold=[]\n",
    "for i in range(0,10):\n",
    "    X_fold.append(X[i::10])\n"
   ]
  },
  {
   "cell_type": "code",
   "execution_count": 259,
   "metadata": {},
   "outputs": [],
   "source": [
    "X_fold=np.asarray(X_fold)"
   ]
  },
  {
   "cell_type": "code",
   "execution_count": 260,
   "metadata": {},
   "outputs": [
    {
     "data": {
      "text/plain": [
       "(500,)"
      ]
     },
     "execution_count": 260,
     "metadata": {},
     "output_type": "execute_result"
    }
   ],
   "source": [
    "X_fold[1].shape# the second set"
   ]
  },
  {
   "cell_type": "code",
   "execution_count": 261,
   "metadata": {},
   "outputs": [],
   "source": [
    "train_len=(9/10)*len(X_fold[1])"
   ]
  },
  {
   "cell_type": "code",
   "execution_count": 262,
   "metadata": {},
   "outputs": [
    {
     "data": {
      "text/plain": [
       "450.0"
      ]
     },
     "execution_count": 262,
     "metadata": {},
     "output_type": "execute_result"
    }
   ],
   "source": [
    "train_len"
   ]
  },
  {
   "cell_type": "code",
   "execution_count": 263,
   "metadata": {},
   "outputs": [
    {
     "name": "stderr",
     "output_type": "stream",
     "text": [
      "/Users/mac/anaconda3/lib/python3.7/site-packages/sklearn/model_selection/_split.py:2026: FutureWarning: From version 0.21, test_size will always complement train_size unless both are specified.\n",
      "  FutureWarning)\n"
     ]
    }
   ],
   "source": [
    "train_set=[]\n",
    "test_set=[]\n",
    "from sklearn.model_selection import train_test_split\n",
    "\n",
    "\n",
    "# for i in range(0,10):\n",
    "#     Set=X_fold[i]\n",
    "for i in range(0,10):\n",
    "    X_train, X_test= train_test_split(X_fold[i], train_size=0.9, random_state=42)\n",
    "    train_set.append(X_train)\n",
    "    test_set.extend(X_test)\n",
    "\n"
   ]
  },
  {
   "cell_type": "code",
   "execution_count": 264,
   "metadata": {},
   "outputs": [],
   "source": [
    "train_set=np.asarray(train_set)\n",
    "test_set=np.asarray(test_set)"
   ]
  },
  {
   "cell_type": "code",
   "execution_count": 265,
   "metadata": {},
   "outputs": [
    {
     "data": {
      "text/plain": [
       "(450,)"
      ]
     },
     "execution_count": 265,
     "metadata": {},
     "output_type": "execute_result"
    }
   ],
   "source": [
    "train_set[1].shape"
   ]
  },
  {
   "cell_type": "code",
   "execution_count": 266,
   "metadata": {},
   "outputs": [],
   "source": [
    "# test_set=[]\n",
    "# for i in range(0,10):\n",
    "#     Set=X_fold[i]\n",
    "#     test_set.extend(Set[450:])"
   ]
  },
  {
   "cell_type": "code",
   "execution_count": 267,
   "metadata": {},
   "outputs": [
    {
     "data": {
      "text/plain": [
       "(500,)"
      ]
     },
     "execution_count": 267,
     "metadata": {},
     "output_type": "execute_result"
    }
   ],
   "source": [
    "test_set.shape"
   ]
  },
  {
   "cell_type": "code",
   "execution_count": 268,
   "metadata": {},
   "outputs": [],
   "source": [
    "def aim_function(x):\n",
    "    return np.sin(x)\n",
    "def g(X,p):\n",
    "    return np.power(X,p)\n",
    "def Amat(X_train,p):\n",
    "    Xmat=[]\n",
    "    for i in range(1,p+1):\n",
    "        Xmat.append(g(X_train,i))\n",
    "    Xmat=np.asarray(Xmat)\n",
    "    Xmat=Xmat.reshape(p,450)\n",
    "    Xmat=Xmat.T\n",
    "    col1=np.ones(np.shape(Xmat)[0]).reshape(np.shape(X_train)[0],1)\n",
    "    Xmat=np.concatenate((col1,Xmat),axis=1)\n",
    "    return Xmat"
   ]
  },
  {
   "cell_type": "code",
   "execution_count": 269,
   "metadata": {},
   "outputs": [],
   "source": [
    "lamda=0.2\n",
    "W=[]\n",
    "for j in range(0,10):\n",
    "    Xmat=Amat(train_set[j],3)\n",
    "    n,p=Xmat.shape\n",
    "    I=np.ones(p**2).reshape(p,p)\n",
    "    W.append((np.linalg.inv(Xmat.T.dot(Xmat)+lamda*I)).dot(Xmat.T).dot(aim_function(train_set[1])))\n",
    "#     l1=y_real-pred(k,W,xinput)\n",
    "#     l=l1.T.dot(l1)+ll*(W.T.dot(W))\n",
    "#     loss.append(l)"
   ]
  },
  {
   "cell_type": "code",
   "execution_count": 270,
   "metadata": {},
   "outputs": [],
   "source": [
    "W=np.asarray(W)"
   ]
  },
  {
   "cell_type": "code",
   "execution_count": 271,
   "metadata": {},
   "outputs": [
    {
     "data": {
      "text/plain": [
       "(10, 4)"
      ]
     },
     "execution_count": 271,
     "metadata": {},
     "output_type": "execute_result"
    }
   ],
   "source": [
    "W.shape"
   ]
  },
  {
   "cell_type": "code",
   "execution_count": 272,
   "metadata": {},
   "outputs": [
    {
     "data": {
      "text/plain": [
       "array([-0.21942019,  1.93442398, -0.89051548,  0.09452316])"
      ]
     },
     "execution_count": 272,
     "metadata": {},
     "output_type": "execute_result"
    }
   ],
   "source": [
    "W[1]"
   ]
  },
  {
   "cell_type": "code",
   "execution_count": 273,
   "metadata": {},
   "outputs": [
    {
     "data": {
      "text/plain": [
       "(4, 10)"
      ]
     },
     "execution_count": 273,
     "metadata": {},
     "output_type": "execute_result"
    }
   ],
   "source": [
    "W.T.shape"
   ]
  },
  {
   "cell_type": "code",
   "execution_count": 274,
   "metadata": {},
   "outputs": [],
   "source": [
    "W1=np.mean(W.T[0])\n",
    "W2=np.mean(W.T[1])\n",
    "W3=np.mean(W.T[2])\n",
    "W4=np.mean(W.T[3])\n",
    "# W5=np.mean(W.T[4])\n",
    "# W6=np.mean(W.T[5])\n",
    "\n",
    "\n",
    "\n",
    "W_opt=np.asarray([W1,W2,W3,W4])"
   ]
  },
  {
   "cell_type": "code",
   "execution_count": 275,
   "metadata": {},
   "outputs": [
    {
     "data": {
      "text/plain": [
       "(4,)"
      ]
     },
     "execution_count": 275,
     "metadata": {},
     "output_type": "execute_result"
    }
   ],
   "source": [
    "W_opt.shape"
   ]
  },
  {
   "cell_type": "code",
   "execution_count": 276,
   "metadata": {},
   "outputs": [],
   "source": [
    "def pred(j,w,x):\n",
    "    predict=w[0]\n",
    "    for p in range(1,j+1):\n",
    "        predict+=w[p]*(x**p)\n",
    "    return predict"
   ]
  },
  {
   "cell_type": "code",
   "execution_count": 277,
   "metadata": {},
   "outputs": [
    {
     "data": {
      "text/plain": [
       "<matplotlib.collections.PathCollection at 0x1a1b3b5da0>"
      ]
     },
     "execution_count": 277,
     "metadata": {},
     "output_type": "execute_result"
    },
    {
     "data": {
      "image/png": "[encoded data removed]",
      "text/plain": [
       "<Figure size 720x288 with 1 Axes>"
      ]
     },
     "metadata": {
      "needs_background": "light"
     },
     "output_type": "display_data"
    }
   ],
   "source": [
    "fig,ax=plt.subplots(nrows=1,ncols=1,figsize=(10,4))\n",
    "ax.scatter(test_set,f(test_set),marker='x',alpha=0.3)\n",
    "# ax.set_ylim(ymin=-10,ymax=3)\n",
    "# ax.set_xlim(xmin=5.5,xmax=6.5)\n",
    "\n",
    "ax.set_title('degree=1')\n",
    "ax.scatter(test_set,pred(3,W_opt,test_set),color='red',alpha=0.1)"
   ]
  },
  {
   "cell_type": "code",
   "execution_count": 278,
   "metadata": {},
   "outputs": [
    {
     "name": "stdout",
     "output_type": "stream",
     "text": [
      "number of points in test set is 500,\n",
      "value of loss function is  4.517015125825364\n",
      "the Loss using model learned from sub-training set 1 is\n",
      "  4.53243072955292 \n",
      "the difference of this model from the optimal model is\n",
      " 0.015415603727555904\n",
      "the Loss using model learned from sub-training set 2 is\n",
      "  4.5263169666423995 \n",
      "the difference of this model from the optimal model is\n",
      " 0.009301840817035334\n",
      "the Loss using model learned from sub-training set 3 is\n",
      "  4.521717119581146 \n",
      "the difference of this model from the optimal model is\n",
      " 0.004701993755781508\n",
      "the Loss using model learned from sub-training set 4 is\n",
      "  4.518631416544831 \n",
      "the difference of this model from the optimal model is\n",
      " 0.0016162907194665621\n",
      "the Loss using model learned from sub-training set 5 is\n",
      "  4.517060099138007 \n",
      "the difference of this model from the optimal model is\n",
      " 4.497331264285975e-05\n",
      "the Loss using model learned from sub-training set 6 is\n",
      "  4.517003422222851 \n",
      "the difference of this model from the optimal model is\n",
      " -1.1703602512902478e-05\n",
      "the Loss using model learned from sub-training set 7 is\n",
      "  4.518461654154047 \n",
      "the difference of this model from the optimal model is\n",
      " 0.0014465283286826391\n",
      "the Loss using model learned from sub-training set 8 is\n",
      "  4.52143507658473 \n",
      "the difference of this model from the optimal model is\n",
      " 0.004419950759365854\n",
      "the Loss using model learned from sub-training set 9 is\n",
      "  4.525923984554496 \n",
      "the difference of this model from the optimal model is\n",
      " 0.008908858729132163\n",
      "the Loss using model learned from sub-training set 10 is\n",
      "  4.53192868645047 \n",
      "the difference of this model from the optimal model is\n",
      " 0.014913560625106292\n",
      "the minimum Loss is 4.517003422222851 \n",
      " the training set is 6\n"
     ]
    }
   ],
   "source": [
    "l1=f(test_set)-pred(3,W_opt,test_set)\n",
    "loss_min=l1.T.dot(l1)+lamda*(W_opt.T.dot(W_opt))\n",
    "print('number of points in test set is 500,\\nvalue of loss function is ',loss_min)\n",
    "loss_all=[]\n",
    "s=[]\n",
    "for i in range(0,10):\n",
    "    s.append(i)\n",
    "    l1=f(test_set)-pred(3,W[i],test_set)\n",
    "    loss=l1.T.dot(l1)+lamda*(W[i].T.dot(W[i]))\n",
    "    loss_all.append(loss)\n",
    "#     loss=((f(test_set)-pred(3,W[i],test_set)).dot(np.ones(len(test_set)).reshape(len(test_set),1)))/len(test_set)\n",
    "    loss_com= loss-loss_min\n",
    "    print('the Loss using model learned from sub-training set',i+1, 'is\\n ',loss,\n",
    "         '\\nthe difference of this model from the optimal model is\\n',loss_com)\n",
    "print('the minimum Loss is',min(loss_all),\n",
    "     '\\n the training set is',s[loss_all.index(min(loss_all))]+1)"
   ]
  },
  {
   "cell_type": "code",
   "execution_count": 279,
   "metadata": {},
   "outputs": [],
   "source": [
    "lamda=np.linspace(0,100)\n",
    "lam=[]\n",
    "loss=[]\n",
    "for l in lamda:\n",
    "    lam.append(l)\n",
    "    W=[]\n",
    "    for j in range(0,10):\n",
    "        Xmat=Amat(train_set[j],4)\n",
    "        n,p=Xmat.shape\n",
    "        I=np.ones(p**2).reshape(p,p)\n",
    "        W.append((np.linalg.inv(Xmat.T.dot(Xmat)+l*I)).dot(Xmat.T).dot(aim_function(train_set[1])))\n",
    "    W=np.asarray(W)\n",
    "    W1=np.mean(W.T[0])\n",
    "    W2=np.mean(W.T[1])\n",
    "    W3=np.mean(W.T[2])\n",
    "    W4=np.mean(W.T[3])\n",
    "    W5=np.mean(W.T[4])\n",
    "\n",
    "#     W6=np.mean(W.T[5])\n",
    "\n",
    "\n",
    "    W_opt=np.asarray([W1,W2,W3,W4,W5])\n",
    "    l1=f(test_set)-pred(4,W_opt,test_set)\n",
    "    loss1=l1.T.dot(l1)+l*(W_opt.T.dot(W_opt))\n",
    "    loss.append(loss1)\n",
    "#     l1=y_real-pred(k,W,xinput)"
   ]
  },
  {
   "cell_type": "code",
   "execution_count": 280,
   "metadata": {},
   "outputs": [
    {
     "data": {
      "text/plain": [
       "Text(0,0.5,'loss')"
      ]
     },
     "execution_count": 280,
     "metadata": {},
     "output_type": "execute_result"
    },
    {
     "data": {
      "image/png": "[encoded data removed]",
      "text/plain": [
       "<Figure size 432x288 with 1 Axes>"
      ]
     },
     "metadata": {
      "needs_background": "light"
     },
     "output_type": "display_data"
    }
   ],
   "source": [
    "plt.plot(lam,loss)\n",
    "plt.xlabel('lambda')\n",
    "plt.ylabel('loss')"
   ]
  },
  {
   "cell_type": "code",
   "execution_count": 281,
   "metadata": {},
   "outputs": [
    {
     "data": {
      "text/plain": [
       "3.5988131502625"
      ]
     },
     "execution_count": 281,
     "metadata": {},
     "output_type": "execute_result"
    }
   ],
   "source": [
    "min(loss)"
   ]
  },
  {
   "cell_type": "code",
   "execution_count": 282,
   "metadata": {},
   "outputs": [
    {
     "data": {
      "text/plain": [
       "0.0"
      ]
     },
     "execution_count": 282,
     "metadata": {},
     "output_type": "execute_result"
    }
   ],
   "source": [
    "lam[loss.index(min(loss))]"
   ]
  },
  {
   "cell_type": "code",
   "execution_count": null,
   "metadata": {},
   "outputs": [],
   "source": []
  }
 ],
 "metadata": {
  "kernelspec": {
   "display_name": "Python 3",
   "language": "python",
   "name": "python3"
  },
  "language_info": {
   "codemirror_mode": {
    "name": "ipython",
    "version": 3
   },
   "file_extension": ".py",
   "mimetype": "text/x-python",
   "name": "python",
   "nbconvert_exporter": "python",
   "pygments_lexer": "ipython3",
   "version": "3.7.0"
  }
 },
 "nbformat": 4,
 "nbformat_minor": 2
}
